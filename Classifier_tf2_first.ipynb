{
 "cells": [
  {
   "cell_type": "markdown",
   "metadata": {},
   "source": []
  },
  {
   "cell_type": "code",
   "execution_count": 1,
   "metadata": {},
   "outputs": [],
   "source": [
    "import tensorflow as tf\n",
    "from tensorflow.keras.models import Sequential\n",
    "from tensorflow.keras.layers import Conv2D, MaxPooling2D, Dropout, Flatten, Dense\n",
    "from tensorflow.keras.optimizers import Adam\n",
    "from tensorflow.keras.preprocessing.image import ImageDataGenerator\n",
    "import numpy as np\n",
    "import matplotlib.pyplot as plt"
   ]
  },
  {
   "cell_type": "code",
   "execution_count": 2,
   "metadata": {
    "scrolled": true
   },
   "outputs": [
    {
     "name": "stdout",
     "output_type": "stream",
     "text": [
      "Tensorflow version: 2.4.0\n",
      "WARNING:tensorflow:From <ipython-input-2-e0b052c31023>:6: is_gpu_available (from tensorflow.python.framework.test_util) is deprecated and will be removed in a future version.\n",
      "Instructions for updating:\n",
      "Use `tf.config.list_physical_devices('GPU')` instead.\n",
      "Is using GPU? True\n"
     ]
    }
   ],
   "source": [
    "import os\n",
    "if not os.path.isdir('models'):\n",
    "  os.mkdir('models')\n",
    "# checking TensorFlow version and GPU usage\n",
    "print('Tensorflow version:', tf.__version__)\n",
    "print('Is using GPU?', tf.test.is_gpu_available())"
   ]
  },
  {
   "cell_type": "code",
   "execution_count": 3,
   "metadata": {},
   "outputs": [],
   "source": [
    "# setting path to the main directory\n",
    "main_dir = r\"C:\\Tensorflow2\\workspace\\Classifier\\Training_imgs\"\n",
    "# Setting path to the training directory\n",
    "train_dir = os.path.join(main_dir, 'train')\n",
    "# Setting path to the test directory\n",
    "test_dir = os.path.join(main_dir, 'test')\n",
    "# Directory with train covid images\n",
    "train_Empty_dir = os.path.join(train_dir, 'Empty')\n",
    "# Directory with train normal images\n",
    "train_Full_dir = os.path.join(train_dir, 'Full')\n",
    "# Directory with test covid image\n",
    "test_Empty_dir = os.path.join(test_dir, 'Empty')\n",
    "# Directory with test normal image\n",
    "test_Full_dir = os.path.join(test_dir, 'Full')"
   ]
  },
  {
   "cell_type": "code",
   "execution_count": 4,
   "metadata": {},
   "outputs": [
    {
     "name": "stdout",
     "output_type": "stream",
     "text": [
      "['Empty_ (1).jpg', 'Empty_ (10).jpg', 'Empty_ (100).jpg', 'Empty_ (101).jpg', 'Empty_ (102).jpg', 'Empty_ (103).jpg', 'Empty_ (104).jpg', 'Empty_ (105).jpg', 'Empty_ (106).jpg', 'Empty_ (107).jpg']\n",
      "['Full_ (1).jpg', 'Full_ (10).jpg', 'Full_ (100).jpg', 'Full_ (101).jpg', 'Full_ (102).jpg', 'Full_ (103).jpg', 'Full_ (104).jpg', 'Full_ (105).jpg', 'Full_ (106).jpg', 'Full_ (107).jpg']\n",
      "['Empty_(441).jpg', 'Empty_(442).jpg', 'Empty_(443).jpg', 'Empty_(444).jpg', 'Empty_(445).jpg', 'Empty_(446).jpg', 'Empty_(447).jpg', 'Empty_(448).jpg', 'Empty_(449).jpg', 'Empty_(450).jpg']\n",
      "['Full_ (201).jpg', 'Full_ (202).jpg', 'Full_ (203).jpg', 'Full_ (204).jpg', 'Full_ (205).jpg', 'Full_ (206).jpg', 'Full_ (207).jpg', 'Full_ (208).jpg', 'Full_ (249).jpg', 'Full_ (250).jpg']\n",
      "Total no of images in training set: 880\n",
      "Total no of images in test set: 80\n"
     ]
    }
   ],
   "source": [
    "# Creating a list of filenames in each directory\n",
    "train_Empty_names = os.listdir(train_Empty_dir)\n",
    "print(train_Empty_names[:10])  # printing a list of the first 10 filenames\n",
    "\n",
    "train_Full_names = os.listdir(train_Full_dir)\n",
    "print(train_Full_names[:10])\n",
    "\n",
    "test_Empty_names = os.listdir(test_Empty_dir)\n",
    "print(test_Empty_names[:10])\n",
    "\n",
    "test_Full_names = os.listdir(test_Full_dir)\n",
    "print(test_Full_names[:10])\n",
    "\n",
    "# Printing total number of images present in each set\n",
    "print('Total no of images in training set:', len(train_Empty_names\n",
    "                                                + train_Full_names))\n",
    "print(\"Total no of images in test set:\", len(test_Empty_names\n",
    "                                            + test_Full_names))"
   ]
  },
  {
   "cell_type": "code",
   "execution_count": 5,
   "metadata": {
    "scrolled": true
   },
   "outputs": [
    {
     "name": "stdout",
     "output_type": "stream",
     "text": [
      "['C:\\\\Tensorflow2\\\\workspace\\\\Classifier\\\\Training_imgs\\\\train\\\\Empty\\\\Empty_ (1).jpg', 'C:\\\\Tensorflow2\\\\workspace\\\\Classifier\\\\Training_imgs\\\\train\\\\Empty\\\\Empty_ (10).jpg', 'C:\\\\Tensorflow2\\\\workspace\\\\Classifier\\\\Training_imgs\\\\train\\\\Empty\\\\Empty_ (100).jpg', 'C:\\\\Tensorflow2\\\\workspace\\\\Classifier\\\\Training_imgs\\\\train\\\\Empty\\\\Empty_ (101).jpg', 'C:\\\\Tensorflow2\\\\workspace\\\\Classifier\\\\Training_imgs\\\\train\\\\Empty\\\\Empty_ (102).jpg', 'C:\\\\Tensorflow2\\\\workspace\\\\Classifier\\\\Training_imgs\\\\train\\\\Empty\\\\Empty_ (103).jpg', 'C:\\\\Tensorflow2\\\\workspace\\\\Classifier\\\\Training_imgs\\\\train\\\\Empty\\\\Empty_ (104).jpg', 'C:\\\\Tensorflow2\\\\workspace\\\\Classifier\\\\Training_imgs\\\\train\\\\Empty\\\\Empty_ (105).jpg']\n",
      "['C:\\\\Tensorflow2\\\\workspace\\\\Classifier\\\\Training_imgs\\\\train\\\\Full\\\\Full_ (1).jpg', 'C:\\\\Tensorflow2\\\\workspace\\\\Classifier\\\\Training_imgs\\\\train\\\\Full\\\\Full_ (10).jpg', 'C:\\\\Tensorflow2\\\\workspace\\\\Classifier\\\\Training_imgs\\\\train\\\\Full\\\\Full_ (100).jpg', 'C:\\\\Tensorflow2\\\\workspace\\\\Classifier\\\\Training_imgs\\\\train\\\\Full\\\\Full_ (101).jpg', 'C:\\\\Tensorflow2\\\\workspace\\\\Classifier\\\\Training_imgs\\\\train\\\\Full\\\\Full_ (102).jpg', 'C:\\\\Tensorflow2\\\\workspace\\\\Classifier\\\\Training_imgs\\\\train\\\\Full\\\\Full_ (103).jpg', 'C:\\\\Tensorflow2\\\\workspace\\\\Classifier\\\\Training_imgs\\\\train\\\\Full\\\\Full_ (104).jpg', 'C:\\\\Tensorflow2\\\\workspace\\\\Classifier\\\\Training_imgs\\\\train\\\\Full\\\\Full_ (105).jpg']\n",
      "['C:\\\\Tensorflow2\\\\workspace\\\\Classifier\\\\Training_imgs\\\\train\\\\Empty\\\\Empty_ (1).jpg', 'C:\\\\Tensorflow2\\\\workspace\\\\Classifier\\\\Training_imgs\\\\train\\\\Empty\\\\Empty_ (10).jpg', 'C:\\\\Tensorflow2\\\\workspace\\\\Classifier\\\\Training_imgs\\\\train\\\\Empty\\\\Empty_ (100).jpg', 'C:\\\\Tensorflow2\\\\workspace\\\\Classifier\\\\Training_imgs\\\\train\\\\Empty\\\\Empty_ (101).jpg', 'C:\\\\Tensorflow2\\\\workspace\\\\Classifier\\\\Training_imgs\\\\train\\\\Empty\\\\Empty_ (102).jpg', 'C:\\\\Tensorflow2\\\\workspace\\\\Classifier\\\\Training_imgs\\\\train\\\\Empty\\\\Empty_ (103).jpg', 'C:\\\\Tensorflow2\\\\workspace\\\\Classifier\\\\Training_imgs\\\\train\\\\Empty\\\\Empty_ (104).jpg', 'C:\\\\Tensorflow2\\\\workspace\\\\Classifier\\\\Training_imgs\\\\train\\\\Empty\\\\Empty_ (105).jpg', 'C:\\\\Tensorflow2\\\\workspace\\\\Classifier\\\\Training_imgs\\\\train\\\\Full\\\\Full_ (1).jpg', 'C:\\\\Tensorflow2\\\\workspace\\\\Classifier\\\\Training_imgs\\\\train\\\\Full\\\\Full_ (10).jpg', 'C:\\\\Tensorflow2\\\\workspace\\\\Classifier\\\\Training_imgs\\\\train\\\\Full\\\\Full_ (100).jpg', 'C:\\\\Tensorflow2\\\\workspace\\\\Classifier\\\\Training_imgs\\\\train\\\\Full\\\\Full_ (101).jpg', 'C:\\\\Tensorflow2\\\\workspace\\\\Classifier\\\\Training_imgs\\\\train\\\\Full\\\\Full_ (102).jpg', 'C:\\\\Tensorflow2\\\\workspace\\\\Classifier\\\\Training_imgs\\\\train\\\\Full\\\\Full_ (103).jpg', 'C:\\\\Tensorflow2\\\\workspace\\\\Classifier\\\\Training_imgs\\\\train\\\\Full\\\\Full_ (104).jpg', 'C:\\\\Tensorflow2\\\\workspace\\\\Classifier\\\\Training_imgs\\\\train\\\\Full\\\\Full_ (105).jpg']\n"
     ]
    },
    {
     "data": {
      "text/plain": [
       "<Figure size 864x864 with 0 Axes>"
      ]
     },
     "metadata": {},
     "output_type": "display_data"
    }
   ],
   "source": [
    "# Data Visualization\n",
    "import matplotlib.image as mpimg\n",
    "# Setting the no of rows and columns\n",
    "ROWS = 4\n",
    "COLS = 4\n",
    "# Setting the figure size\n",
    "fig = plt.gcf()\n",
    "# get current figure; allows us to get a reference to current figure when using pyplot\n",
    "fig.set_size_inches(12, 12)\n",
    "\n",
    "# get the directory to each image file in the trainset\n",
    "Empty_pic = [os.path.join(train_Empty_dir, filename) for filename in train_Empty_names[:8]]\n",
    "Full_pic = [os.path.join(train_Full_dir, filename) for filename in train_Full_names[:8]]\n",
    "print(Empty_pic)\n",
    "print(Full_pic)\n",
    "# merge covid and normal lists\n",
    "merged_list = Empty_pic + Full_pic\n",
    "print(merged_list)"
   ]
  },
  {
   "cell_type": "code",
   "execution_count": 6,
   "metadata": {},
   "outputs": [
    {
     "data": {
      "image/png": "[encoded data removed]",
      "text/plain": [
       "<Figure size 432x288 with 16 Axes>"
      ]
     },
     "metadata": {
      "needs_background": "light"
     },
     "output_type": "display_data"
    }
   ],
   "source": [
    "# Plotting the images in the merged list\n",
    "for i, img_path in enumerate(merged_list):\n",
    "    # getting the filename from the directory\n",
    "    data = img_path.split('\\\\', 7)[7]\n",
    "    # creating a subplot of images with the no. of rows and colums with index no\n",
    "    sp = plt.subplot(ROWS, COLS, i+1)\n",
    "    # turn off axis\n",
    "    sp.axis('Off')\n",
    "    # reading the image data to an array\n",
    "    img = mpimg.imread(img_path)\n",
    "    # setting title of plot as the filename\n",
    "    sp.set_title(data, fontsize=6)\n",
    "    # displaying data as image\n",
    "    plt.imshow(img, cmap='gray')\n",
    "    \n",
    "plt.show()  # display the plot"
   ]
  },
  {
   "cell_type": "code",
   "execution_count": 7,
   "metadata": {},
   "outputs": [],
   "source": [
    "# Data Preprocessing and Augmentation\n",
    "# Generate training, testing and validation batches\n",
    "dgen_train = ImageDataGenerator(rescale=1./255,\n",
    "                                validation_split=0.2,  # using 20% of training data for validation \n",
    "                                zoom_range=0.2,\n",
    "                                horizontal_flip=True)\n",
    "dgen_validation = ImageDataGenerator(rescale=1./255)\n",
    "dgen_test = ImageDataGenerator(rescale=1./255)"
   ]
  },
  {
   "cell_type": "code",
   "execution_count": 8,
   "metadata": {},
   "outputs": [
    {
     "name": "stdout",
     "output_type": "stream",
     "text": [
      "Found 705 images belonging to 2 classes.\n",
      "Found 175 images belonging to 2 classes.\n",
      "Found 80 images belonging to 2 classes.\n"
     ]
    }
   ],
   "source": [
    "# Awesome HyperParameters!!!\n",
    "TARGET_SIZE = (180,25)#(200, 200)\n",
    "BATCH_SIZE = 10#32\n",
    "CLASS_MODE = 'binary'  # for two classes; categorical for over 2 classes\n",
    "\n",
    "# Connecting the ImageDataGenerator objects to our dataset\n",
    "train_generator = dgen_train.flow_from_directory(train_dir,\n",
    "                                                 target_size=TARGET_SIZE,\n",
    "                                                 subset='training',\n",
    "                                                 batch_size=BATCH_SIZE,\n",
    "                                                 class_mode=CLASS_MODE)\n",
    "\n",
    "validation_generator = dgen_train.flow_from_directory(train_dir,\n",
    "                                                      target_size=TARGET_SIZE,\n",
    "                                                      subset='validation',\n",
    "                                                      batch_size=BATCH_SIZE,\n",
    "                                                      class_mode=CLASS_MODE)\n",
    "test_generator = dgen_test.flow_from_directory(test_dir,\n",
    "                                               target_size=TARGET_SIZE,\n",
    "                                               batch_size=BATCH_SIZE,\n",
    "                                               class_mode=CLASS_MODE)"
   ]
  },
  {
   "cell_type": "code",
   "execution_count": 9,
   "metadata": {},
   "outputs": [
    {
     "data": {
      "text/plain": [
       "{'Empty': 0, 'Full': 1}"
      ]
     },
     "execution_count": 9,
     "metadata": {},
     "output_type": "execute_result"
    }
   ],
   "source": [
    "# Get the class indices\n",
    "train_generator.class_indices\n"
   ]
  },
  {
   "cell_type": "code",
   "execution_count": 10,
   "metadata": {},
   "outputs": [
    {
     "data": {
      "text/plain": [
       "(180, 25, 3)"
      ]
     },
     "execution_count": 10,
     "metadata": {},
     "output_type": "execute_result"
    }
   ],
   "source": [
    "# Get the image shape\n",
    "train_generator.image_shape"
   ]
  },
  {
   "cell_type": "code",
   "execution_count": 11,
   "metadata": {},
   "outputs": [
    {
     "name": "stdout",
     "output_type": "stream",
     "text": [
      "Model: \"sequential\"\n",
      "_________________________________________________________________\n",
      "Layer (type)                 Output Shape              Param #   \n",
      "=================================================================\n",
      "conv2d (Conv2D)              (None, 180, 25, 32)       2432      \n",
      "_________________________________________________________________\n",
      "max_pooling2d (MaxPooling2D) (None, 90, 12, 32)        0         \n",
      "_________________________________________________________________\n",
      "dropout (Dropout)            (None, 90, 12, 32)        0         \n",
      "_________________________________________________________________\n",
      "conv2d_1 (Conv2D)            (None, 90, 12, 64)        51264     \n",
      "_________________________________________________________________\n",
      "max_pooling2d_1 (MaxPooling2 (None, 45, 6, 64)         0         \n",
      "_________________________________________________________________\n",
      "dropout_1 (Dropout)          (None, 45, 6, 64)         0         \n",
      "_________________________________________________________________\n",
      "flatten (Flatten)            (None, 17280)             0         \n",
      "_________________________________________________________________\n",
      "dense (Dense)                (None, 256)               4423936   \n",
      "_________________________________________________________________\n",
      "dropout_2 (Dropout)          (None, 256)               0         \n",
      "_________________________________________________________________\n",
      "dense_1 (Dense)              (None, 1)                 257       \n",
      "=================================================================\n",
      "Total params: 4,477,889\n",
      "Trainable params: 4,477,889\n",
      "Non-trainable params: 0\n",
      "_________________________________________________________________\n"
     ]
    }
   ],
   "source": [
    "# Building CNN Model\n",
    "model = Sequential()\n",
    "model.add(Conv2D(32, (5,5), padding='same', activation='relu',\n",
    "                input_shape=(180, 25, 3)))\n",
    "model.add(MaxPooling2D(pool_size=(2,2)))\n",
    "model.add(Dropout(0.2))\n",
    "model.add(Conv2D(64, (5,5), padding='same', activation='relu'))\n",
    "model.add(MaxPooling2D(pool_size=(2,2)))\n",
    "model.add(Dropout(0.2))\n",
    "model.add(Flatten())\n",
    "model.add(Dense(256, activation='relu'))\n",
    "model.add(Dropout(0.2))\n",
    "model.add(Dense(1, activation='sigmoid'))\n",
    "model.summary()"
   ]
  },
  {
   "cell_type": "code",
   "execution_count": 12,
   "metadata": {},
   "outputs": [],
   "source": [
    "# Compile the Model\n",
    "model.compile(Adam(lr=0.001), loss='binary_crossentropy', metrics=['accuracy'])"
   ]
  },
  {
   "cell_type": "code",
   "execution_count": 13,
   "metadata": {},
   "outputs": [
    {
     "name": "stdout",
     "output_type": "stream",
     "text": [
      "Epoch 1/50\n",
      "71/71 [==============================] - 5s 29ms/step - loss: 0.7525 - accuracy: 0.5313 - val_loss: 0.6520 - val_accuracy: 0.8000\n",
      "Epoch 2/50\n",
      "71/71 [==============================] - 1s 19ms/step - loss: 0.5432 - accuracy: 0.8042 - val_loss: 0.5914 - val_accuracy: 0.7257\n",
      "Epoch 3/50\n",
      "71/71 [==============================] - 1s 19ms/step - loss: 0.5419 - accuracy: 0.7443 - val_loss: 0.3226 - val_accuracy: 0.8914\n",
      "Epoch 4/50\n",
      "71/71 [==============================] - 1s 19ms/step - loss: 0.2281 - accuracy: 0.9028 - val_loss: 0.3037 - val_accuracy: 0.8971\n",
      "Epoch 5/50\n",
      "71/71 [==============================] - 1s 19ms/step - loss: 0.1629 - accuracy: 0.9587 - val_loss: 0.5370 - val_accuracy: 0.7314\n",
      "Epoch 6/50\n",
      "71/71 [==============================] - 1s 19ms/step - loss: 0.4594 - accuracy: 0.8154 - val_loss: 0.4851 - val_accuracy: 0.7886\n",
      "Epoch 7/50\n",
      "71/71 [==============================] - 1s 19ms/step - loss: 0.5573 - accuracy: 0.7505 - val_loss: 0.5812 - val_accuracy: 0.8457\n",
      "Epoch 8/50\n",
      "71/71 [==============================] - 1s 19ms/step - loss: 0.4977 - accuracy: 0.8004 - val_loss: 0.5168 - val_accuracy: 0.7943\n",
      "Epoch 9/50\n",
      "71/71 [==============================] - 1s 19ms/step - loss: 0.4707 - accuracy: 0.7691 - val_loss: 0.6076 - val_accuracy: 0.6400\n",
      "Epoch 10/50\n",
      "71/71 [==============================] - 1s 19ms/step - loss: 0.4234 - accuracy: 0.8083 - val_loss: 0.4704 - val_accuracy: 0.7200\n",
      "Epoch 11/50\n",
      "71/71 [==============================] - 1s 19ms/step - loss: 0.2155 - accuracy: 0.9254 - val_loss: 0.3158 - val_accuracy: 0.8686\n",
      "Epoch 12/50\n",
      "71/71 [==============================] - 1s 19ms/step - loss: 0.1212 - accuracy: 0.9685 - val_loss: 0.1298 - val_accuracy: 0.9886\n",
      "Epoch 13/50\n",
      "71/71 [==============================] - 1s 19ms/step - loss: 0.1004 - accuracy: 0.9642 - val_loss: 0.2403 - val_accuracy: 0.9257\n",
      "Epoch 14/50\n",
      "71/71 [==============================] - 1s 19ms/step - loss: 0.2107 - accuracy: 0.9294 - val_loss: 0.6544 - val_accuracy: 0.6057\n",
      "Epoch 15/50\n",
      "71/71 [==============================] - 1s 19ms/step - loss: 0.3496 - accuracy: 0.8413 - val_loss: 0.4811 - val_accuracy: 0.7771\n",
      "Epoch 16/50\n",
      "71/71 [==============================] - 1s 19ms/step - loss: 0.1064 - accuracy: 0.9647 - val_loss: 0.2884 - val_accuracy: 0.9200\n",
      "Epoch 17/50\n",
      "71/71 [==============================] - 1s 19ms/step - loss: 0.1117 - accuracy: 0.9684 - val_loss: 0.5935 - val_accuracy: 0.6914\n",
      "Epoch 18/50\n",
      "71/71 [==============================] - 1s 19ms/step - loss: 0.3896 - accuracy: 0.8415 - val_loss: 1.7206 - val_accuracy: 0.4800\n",
      "Epoch 19/50\n",
      "71/71 [==============================] - 1s 19ms/step - loss: 0.3106 - accuracy: 0.8951 - val_loss: 0.2195 - val_accuracy: 0.9543\n",
      "Epoch 20/50\n",
      "71/71 [==============================] - 1s 19ms/step - loss: 0.0497 - accuracy: 0.9916 - val_loss: 0.2667 - val_accuracy: 0.9143\n",
      "Epoch 21/50\n",
      "71/71 [==============================] - 1s 19ms/step - loss: 0.1041 - accuracy: 0.9762 - val_loss: 0.1661 - val_accuracy: 0.9600\n",
      "Epoch 22/50\n",
      "71/71 [==============================] - 1s 19ms/step - loss: 0.0509 - accuracy: 0.9843 - val_loss: 0.0362 - val_accuracy: 1.0000\n",
      "Epoch 23/50\n",
      "71/71 [==============================] - 1s 19ms/step - loss: 0.0507 - accuracy: 0.9849 - val_loss: 0.0458 - val_accuracy: 0.9943\n",
      "Epoch 24/50\n",
      "71/71 [==============================] - 1s 19ms/step - loss: 0.1219 - accuracy: 0.9481 - val_loss: 0.6734 - val_accuracy: 0.5829\n",
      "Epoch 25/50\n",
      "71/71 [==============================] - 1s 19ms/step - loss: 0.4161 - accuracy: 0.8212 - val_loss: 0.6685 - val_accuracy: 0.5886\n",
      "Epoch 26/50\n",
      "71/71 [==============================] - 1s 19ms/step - loss: 0.3621 - accuracy: 0.8385 - val_loss: 0.2261 - val_accuracy: 0.9543\n",
      "Epoch 27/50\n",
      "71/71 [==============================] - 1s 19ms/step - loss: 0.0382 - accuracy: 0.9878 - val_loss: 0.1479 - val_accuracy: 0.9829\n",
      "Epoch 28/50\n",
      "71/71 [==============================] - 1s 19ms/step - loss: 0.1603 - accuracy: 0.9411 - val_loss: 0.1063 - val_accuracy: 0.9829\n",
      "Epoch 29/50\n",
      "71/71 [==============================] - 1s 19ms/step - loss: 0.0269 - accuracy: 0.9924 - val_loss: 0.0574 - val_accuracy: 0.9886\n",
      "Epoch 30/50\n",
      "71/71 [==============================] - 1s 19ms/step - loss: 0.0010 - accuracy: 1.0000 - val_loss: 0.0756 - val_accuracy: 0.9714\n",
      "Epoch 31/50\n",
      "71/71 [==============================] - 1s 19ms/step - loss: 0.0574 - accuracy: 0.9835 - val_loss: 0.1422 - val_accuracy: 0.9657\n",
      "Epoch 32/50\n",
      "71/71 [==============================] - 1s 19ms/step - loss: 0.0156 - accuracy: 0.9968 - val_loss: 0.0335 - val_accuracy: 0.9829\n",
      "Epoch 33/50\n",
      "71/71 [==============================] - 1s 19ms/step - loss: 0.0299 - accuracy: 0.9901 - val_loss: 0.0559 - val_accuracy: 0.9943\n",
      "Epoch 34/50\n",
      "71/71 [==============================] - 1s 19ms/step - loss: 0.0124 - accuracy: 0.9950 - val_loss: 0.1896 - val_accuracy: 0.9886\n",
      "Epoch 35/50\n",
      "71/71 [==============================] - 1s 19ms/step - loss: 0.0021 - accuracy: 1.0000 - val_loss: 0.1309 - val_accuracy: 0.9771\n",
      "Epoch 36/50\n",
      "71/71 [==============================] - 1s 19ms/step - loss: 0.0112 - accuracy: 0.9964 - val_loss: 0.0795 - val_accuracy: 0.9943\n",
      "Epoch 37/50\n",
      "71/71 [==============================] - 1s 19ms/step - loss: 0.0034 - accuracy: 0.9993 - val_loss: 0.0311 - val_accuracy: 0.9943\n",
      "Epoch 38/50\n",
      "71/71 [==============================] - 1s 19ms/step - loss: 0.2333 - accuracy: 0.9246 - val_loss: 0.1544 - val_accuracy: 0.9657\n",
      "Epoch 39/50\n",
      "71/71 [==============================] - 1s 19ms/step - loss: 0.0324 - accuracy: 0.9900 - val_loss: 0.0376 - val_accuracy: 0.9943\n",
      "Epoch 40/50\n",
      "71/71 [==============================] - 1s 19ms/step - loss: 0.0013 - accuracy: 1.0000 - val_loss: 0.0446 - val_accuracy: 0.9886\n",
      "Epoch 41/50\n",
      "71/71 [==============================] - 1s 19ms/step - loss: 0.0044 - accuracy: 0.9985 - val_loss: 0.1316 - val_accuracy: 0.9886\n",
      "Epoch 42/50\n",
      "71/71 [==============================] - 1s 19ms/step - loss: 0.0020 - accuracy: 1.0000 - val_loss: 0.0088 - val_accuracy: 0.9943\n"
     ]
    }
   ],
   "source": [
    "# Train the Model\n",
    "history = model.fit(train_generator,\n",
    "          epochs=50,\n",
    "          validation_data=validation_generator,\n",
    "          callbacks=[\n",
    "          # Stopping our training if val_accuracy doesn't improve after 20 epochs\n",
    "          tf.keras.callbacks.EarlyStopping(monitor='val_accuracy', \n",
    "                                           patience=20),\n",
    "          # Saving the best weights of our model in the model directory\n",
    "        \n",
    "          # We don't want to save just the weight, but also the model architecture\n",
    "          tf.keras.callbacks.ModelCheckpoint('models/model_{val_accuracy:.3f}.h5',\n",
    "                                           save_best_only=True,\n",
    "                                           save_weights_only=False,\n",
    "                                           monitor='val_accuracy'\n",
    "                                             )\n",
    "    ])"
   ]
  },
  {
   "cell_type": "code",
   "execution_count": 14,
   "metadata": {},
   "outputs": [
    {
     "data": {
      "text/plain": [
       "dict_keys(['loss', 'accuracy', 'val_loss', 'val_accuracy'])"
      ]
     },
     "execution_count": 14,
     "metadata": {},
     "output_type": "execute_result"
    }
   ],
   "source": [
    "# Performance Evaluation\n",
    "history.history.keys()"
   ]
  },
  {
   "cell_type": "code",
   "execution_count": 15,
   "metadata": {},
   "outputs": [
    {
     "data": {
      "text/plain": [
       "Text(0.5, 0, 'epoch')"
      ]
     },
     "execution_count": 15,
     "metadata": {},
     "output_type": "execute_result"
    },
    {
     "data": {
      "image/png": "[encoded data removed]",
      "text/plain": [
       "<Figure size 432x288 with 1 Axes>"
      ]
     },
     "metadata": {
      "needs_background": "light"
     },
     "output_type": "display_data"
    }
   ],
   "source": [
    "# Plot graph between training and validation loss\n",
    "plt.plot(history.history['loss'])\n",
    "plt.plot(history.history['val_loss'])\n",
    "plt.legend(['Training', 'Validation'])\n",
    "plt.title('Training and Validation Losses')\n",
    "plt.xlabel('epoch')"
   ]
  },
  {
   "cell_type": "code",
   "execution_count": 16,
   "metadata": {},
   "outputs": [
    {
     "data": {
      "text/plain": [
       "Text(0.5, 0, 'epoch')"
      ]
     },
     "execution_count": 16,
     "metadata": {},
     "output_type": "execute_result"
    },
    {
     "data": {
      "image/png": "[encoded data removed]",
      "text/plain": [
       "<Figure size 432x288 with 1 Axes>"
      ]
     },
     "metadata": {
      "needs_background": "light"
     },
     "output_type": "display_data"
    }
   ],
   "source": [
    "# Plot graph between training and validation accuracy\n",
    "plt.plot(history.history['accuracy'])\n",
    "plt.plot(history.history['val_accuracy'])\n",
    "plt.legend(['Training', 'Validation'])\n",
    "plt.xlabel('epoch')"
   ]
  },
  {
   "cell_type": "code",
   "execution_count": 19,
   "metadata": {},
   "outputs": [
    {
     "name": "stdout",
     "output_type": "stream",
     "text": [
      "8/8 [==============================] - 0s 10ms/step - loss: 0.0222 - accuracy: 1.0000\n",
      "Test loss: 0.022225964814424515 Test Acc: 1.0\n"
     ]
    }
   ],
   "source": [
    "# loading the best perfoming model\n",
    "model = tf.keras.models.load_model(r'C:\\Tensorflow2\\workspace\\Classifier\\models\\model_1.000.h5')\n",
    "\n",
    "# Getting test accuracy and loss\n",
    "test_loss, test_acc = model.evaluate(test_generator)\n",
    "print('Test loss: {} Test Acc: {}'.format(test_loss, test_acc))"
   ]
  },
  {
   "cell_type": "code",
   "execution_count": 21,
   "metadata": {},
   "outputs": [
    {
     "name": "stdout",
     "output_type": "stream",
     "text": [
      "C:\\Tensorflow2\\workspace\\Classifier\\Training_imgs\\test\\Empty\\Empty_(441).jpg  detected as Empty\n",
      "C:\\Tensorflow2\\workspace\\Classifier\\Training_imgs\\test\\Empty\\Empty_(442).jpg  detected as Empty\n",
      "C:\\Tensorflow2\\workspace\\Classifier\\Training_imgs\\test\\Empty\\Empty_(443).jpg  detected as Empty\n",
      "C:\\Tensorflow2\\workspace\\Classifier\\Training_imgs\\test\\Empty\\Empty_(444).jpg  detected as Empty\n",
      "C:\\Tensorflow2\\workspace\\Classifier\\Training_imgs\\test\\Empty\\Empty_(445).jpg  detected as Empty\n",
      "C:\\Tensorflow2\\workspace\\Classifier\\Training_imgs\\test\\Empty\\Empty_(446).jpg  detected as Empty\n",
      "C:\\Tensorflow2\\workspace\\Classifier\\Training_imgs\\test\\Empty\\Empty_(447).jpg  detected as Empty\n",
      "C:\\Tensorflow2\\workspace\\Classifier\\Training_imgs\\test\\Empty\\Empty_(448).jpg  detected as Empty\n",
      "C:\\Tensorflow2\\workspace\\Classifier\\Training_imgs\\test\\Empty\\Empty_(449).jpg  detected as Empty\n",
      "C:\\Tensorflow2\\workspace\\Classifier\\Training_imgs\\test\\Empty\\Empty_(450).jpg  detected as Empty\n",
      "C:\\Tensorflow2\\workspace\\Classifier\\Training_imgs\\test\\Empty\\Empty_(451).jpg  detected as Empty\n",
      "C:\\Tensorflow2\\workspace\\Classifier\\Training_imgs\\test\\Empty\\Empty_(452).jpg  detected as Empty\n",
      "C:\\Tensorflow2\\workspace\\Classifier\\Training_imgs\\test\\Empty\\Empty_(453).jpg  detected as Empty\n",
      "C:\\Tensorflow2\\workspace\\Classifier\\Training_imgs\\test\\Empty\\Empty_(454).jpg  detected as Empty\n",
      "C:\\Tensorflow2\\workspace\\Classifier\\Training_imgs\\test\\Empty\\Empty_(455).jpg  detected as Empty\n",
      "C:\\Tensorflow2\\workspace\\Classifier\\Training_imgs\\test\\Empty\\Empty_(456).jpg  detected as Empty\n",
      "C:\\Tensorflow2\\workspace\\Classifier\\Training_imgs\\test\\Empty\\Empty_(457).jpg  detected as Empty\n",
      "C:\\Tensorflow2\\workspace\\Classifier\\Training_imgs\\test\\Empty\\Empty_(458).jpg  detected as Empty\n",
      "C:\\Tensorflow2\\workspace\\Classifier\\Training_imgs\\test\\Empty\\Empty_(459).jpg  detected as Empty\n",
      "C:\\Tensorflow2\\workspace\\Classifier\\Training_imgs\\test\\Empty\\Empty_(460).jpg  detected as Empty\n",
      "C:\\Tensorflow2\\workspace\\Classifier\\Training_imgs\\test\\Empty\\Empty_(461).jpg  detected as Empty\n",
      "C:\\Tensorflow2\\workspace\\Classifier\\Training_imgs\\test\\Empty\\Empty_(462).jpg  detected as Empty\n",
      "C:\\Tensorflow2\\workspace\\Classifier\\Training_imgs\\test\\Empty\\Empty_(463).jpg  detected as Empty\n",
      "C:\\Tensorflow2\\workspace\\Classifier\\Training_imgs\\test\\Empty\\Empty_(464).jpg  detected as Empty\n",
      "C:\\Tensorflow2\\workspace\\Classifier\\Training_imgs\\test\\Empty\\Empty_(465).jpg  detected as Empty\n",
      "C:\\Tensorflow2\\workspace\\Classifier\\Training_imgs\\test\\Empty\\Empty_(466).jpg  detected as Empty\n",
      "C:\\Tensorflow2\\workspace\\Classifier\\Training_imgs\\test\\Empty\\Empty_(467).jpg  detected as Empty\n",
      "C:\\Tensorflow2\\workspace\\Classifier\\Training_imgs\\test\\Empty\\Empty_(468).jpg  detected as Empty\n",
      "C:\\Tensorflow2\\workspace\\Classifier\\Training_imgs\\test\\Empty\\Empty_(469).jpg  detected as Empty\n",
      "C:\\Tensorflow2\\workspace\\Classifier\\Training_imgs\\test\\Empty\\Empty_(470).jpg  detected as Empty\n",
      "C:\\Tensorflow2\\workspace\\Classifier\\Training_imgs\\test\\Empty\\Empty_(471).jpg  detected as Empty\n",
      "C:\\Tensorflow2\\workspace\\Classifier\\Training_imgs\\test\\Empty\\Empty_(472).jpg  detected as Empty\n",
      "C:\\Tensorflow2\\workspace\\Classifier\\Training_imgs\\test\\Empty\\Empty_(473).jpg  detected as Empty\n",
      "C:\\Tensorflow2\\workspace\\Classifier\\Training_imgs\\test\\Empty\\Empty_(474).jpg  detected as Empty\n",
      "C:\\Tensorflow2\\workspace\\Classifier\\Training_imgs\\test\\Empty\\Empty_(475).jpg  detected as Empty\n",
      "C:\\Tensorflow2\\workspace\\Classifier\\Training_imgs\\test\\Empty\\Empty_(476).jpg  detected as Empty\n",
      "C:\\Tensorflow2\\workspace\\Classifier\\Training_imgs\\test\\Empty\\Empty_(477).jpg  detected as Empty\n",
      "C:\\Tensorflow2\\workspace\\Classifier\\Training_imgs\\test\\Empty\\Empty_(478).jpg  detected as Empty\n",
      "C:\\Tensorflow2\\workspace\\Classifier\\Training_imgs\\test\\Empty\\Empty_(479).jpg  detected as Empty\n",
      "C:\\Tensorflow2\\workspace\\Classifier\\Training_imgs\\test\\Empty\\Empty_(480).jpg  detected as Empty\n",
      "C:\\Tensorflow2\\workspace\\Classifier\\Training_imgs\\test\\Full\\Full_ (201).jpg  detected as Full\n",
      "C:\\Tensorflow2\\workspace\\Classifier\\Training_imgs\\test\\Full\\Full_ (202).jpg  detected as Full\n",
      "C:\\Tensorflow2\\workspace\\Classifier\\Training_imgs\\test\\Full\\Full_ (203).jpg  detected as Full\n",
      "C:\\Tensorflow2\\workspace\\Classifier\\Training_imgs\\test\\Full\\Full_ (204).jpg  detected as Full\n",
      "C:\\Tensorflow2\\workspace\\Classifier\\Training_imgs\\test\\Full\\Full_ (205).jpg  detected as Full\n",
      "C:\\Tensorflow2\\workspace\\Classifier\\Training_imgs\\test\\Full\\Full_ (206).jpg  detected as Full\n",
      "C:\\Tensorflow2\\workspace\\Classifier\\Training_imgs\\test\\Full\\Full_ (207).jpg  detected as Full\n",
      "C:\\Tensorflow2\\workspace\\Classifier\\Training_imgs\\test\\Full\\Full_ (208).jpg  detected as Full\n",
      "C:\\Tensorflow2\\workspace\\Classifier\\Training_imgs\\test\\Full\\Full_ (249).jpg  detected as Full\n",
      "C:\\Tensorflow2\\workspace\\Classifier\\Training_imgs\\test\\Full\\Full_ (250).jpg  detected as Full\n",
      "C:\\Tensorflow2\\workspace\\Classifier\\Training_imgs\\test\\Full\\Full_ (251).jpg  detected as Full\n",
      "C:\\Tensorflow2\\workspace\\Classifier\\Training_imgs\\test\\Full\\Full_ (252).jpg  detected as Full\n",
      "C:\\Tensorflow2\\workspace\\Classifier\\Training_imgs\\test\\Full\\Full_ (253).jpg  detected as Full\n",
      "C:\\Tensorflow2\\workspace\\Classifier\\Training_imgs\\test\\Full\\Full_ (254).jpg  detected as Full\n",
      "C:\\Tensorflow2\\workspace\\Classifier\\Training_imgs\\test\\Full\\Full_ (255).jpg  detected as Full\n",
      "C:\\Tensorflow2\\workspace\\Classifier\\Training_imgs\\test\\Full\\Full_ (256).jpg  detected as Full\n",
      "C:\\Tensorflow2\\workspace\\Classifier\\Training_imgs\\test\\Full\\Full_ (281).jpg  detected as Full\n",
      "C:\\Tensorflow2\\workspace\\Classifier\\Training_imgs\\test\\Full\\Full_ (282).jpg  detected as Full\n",
      "C:\\Tensorflow2\\workspace\\Classifier\\Training_imgs\\test\\Full\\Full_ (283).jpg  detected as Full\n",
      "C:\\Tensorflow2\\workspace\\Classifier\\Training_imgs\\test\\Full\\Full_ (284).jpg  detected as Full\n",
      "C:\\Tensorflow2\\workspace\\Classifier\\Training_imgs\\test\\Full\\Full_ (285).jpg  detected as Full\n",
      "C:\\Tensorflow2\\workspace\\Classifier\\Training_imgs\\test\\Full\\Full_ (286).jpg  detected as Full\n",
      "C:\\Tensorflow2\\workspace\\Classifier\\Training_imgs\\test\\Full\\Full_ (287).jpg  detected as Full\n",
      "C:\\Tensorflow2\\workspace\\Classifier\\Training_imgs\\test\\Full\\Full_ (288).jpg  detected as Full\n",
      "C:\\Tensorflow2\\workspace\\Classifier\\Training_imgs\\test\\Full\\Full_ (345).jpg  detected as Full\n",
      "C:\\Tensorflow2\\workspace\\Classifier\\Training_imgs\\test\\Full\\Full_ (346).jpg  detected as Full\n",
      "C:\\Tensorflow2\\workspace\\Classifier\\Training_imgs\\test\\Full\\Full_ (347).jpg  detected as Full\n",
      "C:\\Tensorflow2\\workspace\\Classifier\\Training_imgs\\test\\Full\\Full_ (348).jpg  detected as Full\n",
      "C:\\Tensorflow2\\workspace\\Classifier\\Training_imgs\\test\\Full\\Full_ (349).jpg  detected as Full\n",
      "C:\\Tensorflow2\\workspace\\Classifier\\Training_imgs\\test\\Full\\Full_ (350).jpg  detected as Full\n",
      "C:\\Tensorflow2\\workspace\\Classifier\\Training_imgs\\test\\Full\\Full_ (351).jpg  detected as Full\n",
      "C:\\Tensorflow2\\workspace\\Classifier\\Training_imgs\\test\\Full\\Full_ (352).jpg  detected as Full\n",
      "C:\\Tensorflow2\\workspace\\Classifier\\Training_imgs\\test\\Full\\Full_(441).jpg  detected as Full\n",
      "C:\\Tensorflow2\\workspace\\Classifier\\Training_imgs\\test\\Full\\Full_(442).jpg  detected as Full\n",
      "C:\\Tensorflow2\\workspace\\Classifier\\Training_imgs\\test\\Full\\Full_(443).jpg  detected as Full\n",
      "C:\\Tensorflow2\\workspace\\Classifier\\Training_imgs\\test\\Full\\Full_(444).jpg  detected as Full\n",
      "C:\\Tensorflow2\\workspace\\Classifier\\Training_imgs\\test\\Full\\Full_(445).jpg  detected as Full\n",
      "C:\\Tensorflow2\\workspace\\Classifier\\Training_imgs\\test\\Full\\Full_(446).jpg  detected as Full\n",
      "C:\\Tensorflow2\\workspace\\Classifier\\Training_imgs\\test\\Full\\Full_(447).jpg  detected as Full\n",
      "C:\\Tensorflow2\\workspace\\Classifier\\Training_imgs\\test\\Full\\Full_(448).jpg  detected as Full\n"
     ]
    }
   ],
   "source": [
    "# Making Prediction fo all Images in Test-Folder\n",
    "import numpy as np\n",
    "import glob\n",
    "import os\n",
    "from keras.preprocessing import image as k_image\n",
    "\n",
    "# load and resize image to 200x200\n",
    "Folder = ['Empty', 'Full'] # all Categories-Folders\n",
    "for fo in Folder:\n",
    "    pfad = os.path.join(r'C:\\Tensorflow2\\workspace\\Classifier\\Training_imgs\\test', fo ,'*.jpg')\n",
    "    test_images = glob.glob(pfad)\n",
    "    #print(test_images)\n",
    "    for image in test_images:\n",
    "        test_image = k_image.load_img(image,target_size=(180, 25))\n",
    "\n",
    "        # convert image to numpy array\n",
    "        images = k_image.img_to_array(test_image)\n",
    "        # expand dimension of image\n",
    "        images = np.expand_dims(images, axis=0)\n",
    "        # making prediction with model\n",
    "        prediction = model.predict(images)\n",
    "    \n",
    "        if prediction == 0:\n",
    "          print(image,' detected as Empty')\n",
    "        else:\n",
    "          print(image,' detected as Full')"
   ]
  },
  {
   "cell_type": "code",
   "execution_count": null,
   "metadata": {},
   "outputs": [],
   "source": []
  }
 ],
 "metadata": {
  "kernelspec": {
   "display_name": "Python 3",
   "language": "python",
   "name": "python3"
  },
  "language_info": {
   "codemirror_mode": {
    "name": "ipython",
    "version": 3
   },
   "file_extension": ".py",
   "mimetype": "text/x-python",
   "name": "python",
   "nbconvert_exporter": "python",
   "pygments_lexer": "ipython3",
   "version": "3.8.5"
  }
 },
 "nbformat": 4,
 "nbformat_minor": 4
}
